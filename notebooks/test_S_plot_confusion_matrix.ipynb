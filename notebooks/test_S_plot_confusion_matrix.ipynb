{
 "cells": [
  {
   "cell_type": "raw",
   "metadata": {},
   "source": [
    "---\n",
    "title: Plot confusion matrix\n",
    "authors:\n",
    "- Nabil Toumi\n",
    "tags:\n",
    "- Plot\n",
    "- Confusion matrix\n",
    "- Classification\n",
    "- Visualization\n",
    "created_at: 2018-08-27\n",
    "updated_at: 2018-08-27\n",
    "tldr: We created a function that plots a confusion matrix. It is used for the classifications problems. It gives a visual aspect of the precision and recall for each class\n",
    "---"
   ]
  },
  {
   "cell_type": "markdown",
   "metadata": {},
   "source": [
    "### Motivation"
   ]
  },
  {
   "cell_type": "markdown",
   "metadata": {},
   "source": [
    "**Clarity:** Confusion matrices give quickly a good idea of the classification quality"
   ]
  },
  {
   "cell_type": "markdown",
   "metadata": {},
   "source": [
    "### I. The function"
   ]
  },
  {
   "cell_type": "code",
   "execution_count": 1,
   "metadata": {},
   "outputs": [],
   "source": [
    "import matplotlib.pyplot as plt\n",
    "import itertools\n",
    "import numpy as np\n",
    "\n",
    "def plot_confusion_matrix(confusion_matrix, classes, y_label, x_label, title='Confusion matrix', cmap=plt.cm.Blues):\n",
    "    \"\"\"\n",
    "    This function plots the confusion matrix\n",
    "\n",
    "    :param confusion_matrix: The matrix containing the data to plot\n",
    "    :param classes: The different classes of our classification problem\n",
    "    :param y_label: label of the y_axis in the plot\n",
    "    :param x_label: label of the x_axis in the plot\n",
    "    :param title: Title of the graph\n",
    "    :param cmap: color map reference\n",
    "\n",
    "    :return: Plots the confusion matrix\n",
    "    \"\"\"\n",
    "    plt.figure()\n",
    "\n",
    "    plt.imshow(confusion_matrix, interpolation='nearest', cmap=cmap)\n",
    "    plt.title(title)\n",
    "    plt.colorbar()\n",
    "    tick_marks = np.arange(len(classes))\n",
    "    plt.xticks(tick_marks, classes, rotation=45)\n",
    "    plt.yticks(tick_marks, classes)\n",
    "    fmt = 'd'\n",
    "\n",
    "    for i, j in itertools.product(range(confusion_matrix.shape[0]), range(confusion_matrix.shape[1])):\n",
    "        plt.text(j, i, format(confusion_matrix[i, j], fmt),\n",
    "                 horizontalalignment='center',\n",
    "                 color='white',\n",
    "                 bbox={'facecolor': 'black', 'alpha': 0.5, 'pad': 4})\n",
    "\n",
    "    plt.tight_layout()\n",
    "    plt.ylabel(y_label)\n",
    "    plt.xlabel(x_label)\n",
    "    plt.show()\n"
   ]
  },
  {
   "cell_type": "markdown",
   "metadata": {},
   "source": [
    "### II. The results"
   ]
  },
  {
   "cell_type": "markdown",
   "metadata": {},
   "source": [
    "- Dataset generation\n",
    "\n",
    "**Classification problem:** We need to predict the driver status between 3 classes Actif/Churn/Lost\n",
    "\n",
    "**Dataset Generation:** We generate randomly 2 lists representing the predictions and the true labels of our situaion"
   ]
  },
  {
   "cell_type": "code",
   "execution_count": 2,
   "metadata": {},
   "outputs": [],
   "source": [
    "import pandas as pd\n",
    "from random import randint, sample"
   ]
  },
  {
   "cell_type": "code",
   "execution_count": 3,
   "metadata": {},
   "outputs": [],
   "source": [
    "y_pred = [randint(0, 2) for i in range(1000)]\n",
    "y_true = [randint(0, 2) for i in range(1000)]\n",
    "\n",
    "di = {0: 'actif', 1: 'churn', 2: 'lost'}\n",
    "y_pred = [di.get(n,n) for n in y_pred]\n",
    "y_true = [di.get(n,n) for n in y_true]"
   ]
  },
  {
   "cell_type": "markdown",
   "metadata": {},
   "source": [
    "- Plot the matrix"
   ]
  },
  {
   "cell_type": "code",
   "execution_count": 4,
   "metadata": {},
   "outputs": [],
   "source": [
    "from sklearn.metrics import confusion_matrix\n",
    "%matplotlib inline"
   ]
  },
  {
   "cell_type": "code",
   "execution_count": 5,
   "metadata": {},
   "outputs": [
    {
     "data": {
      "image/png": "[encoded data removed]",
      "text/plain": [
       "<Figure size 432x288 with 2 Axes>"
      ]
     },
     "metadata": {},
     "output_type": "display_data"
    }
   ],
   "source": [
    "# Function inputs\n",
    "classes = ['actif', 'churn', 'lost']\n",
    "conf_matrix = confusion_matrix(y_true, y_pred)\n",
    "\n",
    "# Plot the matrix\n",
    "plot_confusion_matrix(conf_matrix, classes, 'True label', 'Predicted label', title='Confusion matrix', cmap=plt.cm.Blues)"
   ]
  }
 ],
 "metadata": {
  "hide_input": false,
  "kernelspec": {
   "display_name": "Python 3",
   "language": "python",
   "name": "python3"
  },
  "language_info": {
   "codemirror_mode": {
    "name": "ipython",
    "version": 3
   },
   "file_extension": ".py",
   "mimetype": "text/x-python",
   "name": "python",
   "nbconvert_exporter": "python",
   "pygments_lexer": "ipython3",
   "version": "3.6.5"
  }
 },
 "nbformat": 4,
 "nbformat_minor": 1
}
